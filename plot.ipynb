{
 "cells": [
  {
   "cell_type": "code",
   "execution_count": 55,
   "metadata": {},
   "outputs": [],
   "source": [
    "import numpy as np\n",
    "import pandas as pd\n",
    "import matplotlib\n",
    "from matplotlib import pyplot as plt\n",
    "import os"
   ]
  },
  {
   "cell_type": "code",
   "execution_count": 56,
   "metadata": {},
   "outputs": [],
   "source": [
    "result_dir = os.getcwd() + '/results/microbenchmark-experiments/'\n",
    "plot = os.getcwd() + '/images/'"
   ]
  },
  {
   "cell_type": "code",
   "execution_count": 57,
   "metadata": {},
   "outputs": [],
   "source": [
    "gem5Configs = ['UnCalib','Calib','Max']\n",
    "benchmarks = ['CCa','CCe','CCm','CCh_st','CRm','CRf','CRd','CS1','CS3','EI','EF','ED1','EM1','EM5','MI','MC','MCS','MI','MD','MIM','MIM2']\n",
    "exe_benchmarks = ['ED1','EI','EF','EM1','EM5']"
   ]
  },
  {
   "cell_type": "code",
   "execution_count": 58,
   "metadata": {},
   "outputs": [],
   "source": [
    "# function to extract stats\n",
    "def gem5GetStat(filename, stat):\n",
    "    filename = os.path.join(result_dir, '', filename, 'stats.txt').replace('\\\\','/')\n",
    "    with open(filename) as f:\n",
    "        r = f.read()\n",
    "        if len(r) < 10: return 0.0\n",
    "        start = r.find(stat) + len(stat) + 1\n",
    "        end = r.find('#', start)\n",
    "        return float(r[start:end])"
   ]
  },
  {
   "cell_type": "code",
   "execution_count": 59,
   "metadata": {},
   "outputs": [
    {
     "output_type": "error",
     "ename": "FileNotFoundError",
     "evalue": "[Errno 2] No such file or directory: '/fasthome/shparekh/gem5-validation-framework/gem5-skylake-config/results/microbenchmark-experiments/UnCalib/CCa/stats.txt'",
     "traceback": [
      "\u001b[0;31m---------------------------------------------------------------------------\u001b[0m",
      "\u001b[0;31mFileNotFoundError\u001b[0m                         Traceback (most recent call last)",
      "\u001b[0;32m<ipython-input-59-28d8ce7cd5b8>\u001b[0m in \u001b[0;36m<module>\u001b[0;34m\u001b[0m\n\u001b[1;32m      4\u001b[0m     \u001b[0;32mfor\u001b[0m \u001b[0mbm\u001b[0m \u001b[0;32min\u001b[0m \u001b[0mbenchmarks\u001b[0m\u001b[0;34m:\u001b[0m\u001b[0;34m\u001b[0m\u001b[0;34m\u001b[0m\u001b[0m\n\u001b[1;32m      5\u001b[0m         rows.append([config, bm,\n\u001b[0;32m----> 6\u001b[0;31m                      \u001b[0mgem5GetStat\u001b[0m\u001b[0;34m(\u001b[0m\u001b[0mcdir\u001b[0m \u001b[0;34m+\u001b[0m \u001b[0mbm\u001b[0m\u001b[0;34m,\u001b[0m \u001b[0;34m'sim_ticks'\u001b[0m\u001b[0;34m)\u001b[0m\u001b[0;34m/\u001b[0m\u001b[0;36m285.7\u001b[0m\u001b[0;34m,\u001b[0m \u001b[0;31m#3.5GHz\u001b[0m\u001b[0;34m\u001b[0m\u001b[0;34m\u001b[0m\u001b[0m\n\u001b[0m\u001b[1;32m      7\u001b[0m                      \u001b[0mgem5GetStat\u001b[0m\u001b[0;34m(\u001b[0m\u001b[0mcdir\u001b[0m \u001b[0;34m+\u001b[0m \u001b[0mbm\u001b[0m\u001b[0;34m,\u001b[0m \u001b[0;34m'sim_insts'\u001b[0m\u001b[0;34m)\u001b[0m\u001b[0;34m,\u001b[0m\u001b[0;34m\u001b[0m\u001b[0;34m\u001b[0m\u001b[0m\n\u001b[1;32m      8\u001b[0m                      \u001b[0mgem5GetStat\u001b[0m\u001b[0;34m(\u001b[0m\u001b[0mcdir\u001b[0m \u001b[0;34m+\u001b[0m \u001b[0mbm\u001b[0m\u001b[0;34m,\u001b[0m \u001b[0;34m'sim_ops'\u001b[0m\u001b[0;34m)\u001b[0m\u001b[0;34m,\u001b[0m\u001b[0;34m\u001b[0m\u001b[0;34m\u001b[0m\u001b[0m\n",
      "\u001b[0;32m<ipython-input-58-077dd0e48102>\u001b[0m in \u001b[0;36mgem5GetStat\u001b[0;34m(filename, stat)\u001b[0m\n\u001b[1;32m      2\u001b[0m \u001b[0;32mdef\u001b[0m \u001b[0mgem5GetStat\u001b[0m\u001b[0;34m(\u001b[0m\u001b[0mfilename\u001b[0m\u001b[0;34m,\u001b[0m \u001b[0mstat\u001b[0m\u001b[0;34m)\u001b[0m\u001b[0;34m:\u001b[0m\u001b[0;34m\u001b[0m\u001b[0;34m\u001b[0m\u001b[0m\n\u001b[1;32m      3\u001b[0m     \u001b[0mfilename\u001b[0m \u001b[0;34m=\u001b[0m \u001b[0mos\u001b[0m\u001b[0;34m.\u001b[0m\u001b[0mpath\u001b[0m\u001b[0;34m.\u001b[0m\u001b[0mjoin\u001b[0m\u001b[0;34m(\u001b[0m\u001b[0mresult_dir\u001b[0m\u001b[0;34m,\u001b[0m \u001b[0;34m''\u001b[0m\u001b[0;34m,\u001b[0m \u001b[0mfilename\u001b[0m\u001b[0;34m,\u001b[0m \u001b[0;34m'stats.txt'\u001b[0m\u001b[0;34m)\u001b[0m\u001b[0;34m.\u001b[0m\u001b[0mreplace\u001b[0m\u001b[0;34m(\u001b[0m\u001b[0;34m'\\\\'\u001b[0m\u001b[0;34m,\u001b[0m\u001b[0;34m'/'\u001b[0m\u001b[0;34m)\u001b[0m\u001b[0;34m\u001b[0m\u001b[0;34m\u001b[0m\u001b[0m\n\u001b[0;32m----> 4\u001b[0;31m     \u001b[0;32mwith\u001b[0m \u001b[0mopen\u001b[0m\u001b[0;34m(\u001b[0m\u001b[0mfilename\u001b[0m\u001b[0;34m)\u001b[0m \u001b[0;32mas\u001b[0m \u001b[0mf\u001b[0m\u001b[0;34m:\u001b[0m\u001b[0;34m\u001b[0m\u001b[0;34m\u001b[0m\u001b[0m\n\u001b[0m\u001b[1;32m      5\u001b[0m         \u001b[0mr\u001b[0m \u001b[0;34m=\u001b[0m \u001b[0mf\u001b[0m\u001b[0;34m.\u001b[0m\u001b[0mread\u001b[0m\u001b[0;34m(\u001b[0m\u001b[0;34m)\u001b[0m\u001b[0;34m\u001b[0m\u001b[0;34m\u001b[0m\u001b[0m\n\u001b[1;32m      6\u001b[0m         \u001b[0;32mif\u001b[0m \u001b[0mlen\u001b[0m\u001b[0;34m(\u001b[0m\u001b[0mr\u001b[0m\u001b[0;34m)\u001b[0m \u001b[0;34m<\u001b[0m \u001b[0;36m10\u001b[0m\u001b[0;34m:\u001b[0m \u001b[0;32mreturn\u001b[0m \u001b[0;36m0.0\u001b[0m\u001b[0;34m\u001b[0m\u001b[0;34m\u001b[0m\u001b[0m\n",
      "\u001b[0;31mFileNotFoundError\u001b[0m: [Errno 2] No such file or directory: '/fasthome/shparekh/gem5-validation-framework/gem5-skylake-config/results/microbenchmark-experiments/UnCalib/CCa/stats.txt'"
     ]
    }
   ],
   "source": [
    "rows = []\n",
    "for config in gem5Configs:\n",
    "    cdir = result_dir + config + '/'\n",
    "    for bm in benchmarks:\n",
    "        rows.append([config, bm,\n",
    "                     gem5GetStat(cdir + bm, 'sim_ticks')/285.7, #3.5GHz\n",
    "                     gem5GetStat(cdir + bm, 'sim_insts'),\n",
    "                     gem5GetStat(cdir + bm, 'sim_ops'),\n",
    "                     gem5GetStat(cdir + bm, 'system.cpu.ipc')])\n",
    "\n",
    "gem5_df = pd.DataFrame(rows, columns=['config', 'benchmark', 'cycles', 'instructions', 'ops', 'ipc'])"
   ]
  },
  {
   "cell_type": "code",
   "execution_count": 60,
   "metadata": {},
   "outputs": [],
   "source": [
    "def CreateArray(config,benchmarks,stat):\n",
    "    arr = []\n",
    "    for bm in benchmarks:\n",
    "        a = gem5_df[(gem5_df['benchmark']==bm) & (gem5_df['config']==config)]\n",
    "        arr.append(a[stat].iloc[0])\n",
    "    return arr\n"
   ]
  },
  {
   "cell_type": "code",
   "execution_count": 61,
   "metadata": {},
   "outputs": [
    {
     "output_type": "error",
     "ename": "NameError",
     "evalue": "name 'gem5_df' is not defined",
     "traceback": [
      "\u001b[0;31m---------------------------------------------------------------------------\u001b[0m",
      "\u001b[0;31mNameError\u001b[0m                                 Traceback (most recent call last)",
      "\u001b[0;32m<ipython-input-61-fd080b6b70a5>\u001b[0m in \u001b[0;36m<module>\u001b[0;34m\u001b[0m\n\u001b[1;32m      9\u001b[0m \u001b[0mdisplacement2\u001b[0m \u001b[0;34m=\u001b[0m \u001b[0mdisplacement1\u001b[0m \u001b[0;34m+\u001b[0m \u001b[0mbarwidth\u001b[0m\u001b[0;34m\u001b[0m\u001b[0;34m\u001b[0m\u001b[0m\n\u001b[1;32m     10\u001b[0m \u001b[0;34m\u001b[0m\u001b[0m\n\u001b[0;32m---> 11\u001b[0;31m \u001b[0mUnCalib_ipc\u001b[0m \u001b[0;34m=\u001b[0m \u001b[0mCreateArray\u001b[0m\u001b[0;34m(\u001b[0m\u001b[0;34m'UnCalib'\u001b[0m\u001b[0;34m,\u001b[0m\u001b[0mbenchmarks\u001b[0m\u001b[0;34m,\u001b[0m\u001b[0;34m'ipc'\u001b[0m\u001b[0;34m)\u001b[0m\u001b[0;34m\u001b[0m\u001b[0;34m\u001b[0m\u001b[0m\n\u001b[0m\u001b[1;32m     12\u001b[0m \u001b[0mCalib_ipc\u001b[0m \u001b[0;34m=\u001b[0m \u001b[0mCreateArray\u001b[0m\u001b[0;34m(\u001b[0m\u001b[0;34m'Calib'\u001b[0m\u001b[0;34m,\u001b[0m\u001b[0mbenchmarks\u001b[0m\u001b[0;34m,\u001b[0m\u001b[0;34m'ipc'\u001b[0m\u001b[0;34m)\u001b[0m\u001b[0;34m\u001b[0m\u001b[0;34m\u001b[0m\u001b[0m\n\u001b[1;32m     13\u001b[0m \u001b[0mMax_ipc\u001b[0m \u001b[0;34m=\u001b[0m \u001b[0mCreateArray\u001b[0m\u001b[0;34m(\u001b[0m\u001b[0;34m'Max'\u001b[0m\u001b[0;34m,\u001b[0m\u001b[0mbenchmarks\u001b[0m\u001b[0;34m,\u001b[0m\u001b[0;34m'ipc'\u001b[0m\u001b[0;34m)\u001b[0m\u001b[0;34m\u001b[0m\u001b[0;34m\u001b[0m\u001b[0m\n",
      "\u001b[0;32m<ipython-input-60-f784e1933b70>\u001b[0m in \u001b[0;36mCreateArray\u001b[0;34m(config, benchmarks, stat)\u001b[0m\n\u001b[1;32m      2\u001b[0m     \u001b[0marr\u001b[0m \u001b[0;34m=\u001b[0m \u001b[0;34m[\u001b[0m\u001b[0;34m]\u001b[0m\u001b[0;34m\u001b[0m\u001b[0;34m\u001b[0m\u001b[0m\n\u001b[1;32m      3\u001b[0m     \u001b[0;32mfor\u001b[0m \u001b[0mbm\u001b[0m \u001b[0;32min\u001b[0m \u001b[0mbenchmarks\u001b[0m\u001b[0;34m:\u001b[0m\u001b[0;34m\u001b[0m\u001b[0;34m\u001b[0m\u001b[0m\n\u001b[0;32m----> 4\u001b[0;31m         \u001b[0ma\u001b[0m \u001b[0;34m=\u001b[0m \u001b[0mgem5_df\u001b[0m\u001b[0;34m[\u001b[0m\u001b[0;34m(\u001b[0m\u001b[0mgem5_df\u001b[0m\u001b[0;34m[\u001b[0m\u001b[0;34m'benchmark'\u001b[0m\u001b[0;34m]\u001b[0m\u001b[0;34m==\u001b[0m\u001b[0mbm\u001b[0m\u001b[0;34m)\u001b[0m \u001b[0;34m&\u001b[0m \u001b[0;34m(\u001b[0m\u001b[0mgem5_df\u001b[0m\u001b[0;34m[\u001b[0m\u001b[0;34m'config'\u001b[0m\u001b[0;34m]\u001b[0m\u001b[0;34m==\u001b[0m\u001b[0mconfig\u001b[0m\u001b[0;34m)\u001b[0m\u001b[0;34m]\u001b[0m\u001b[0;34m\u001b[0m\u001b[0;34m\u001b[0m\u001b[0m\n\u001b[0m\u001b[1;32m      5\u001b[0m         \u001b[0marr\u001b[0m\u001b[0;34m.\u001b[0m\u001b[0mappend\u001b[0m\u001b[0;34m(\u001b[0m\u001b[0ma\u001b[0m\u001b[0;34m[\u001b[0m\u001b[0mstat\u001b[0m\u001b[0;34m]\u001b[0m\u001b[0;34m.\u001b[0m\u001b[0miloc\u001b[0m\u001b[0;34m[\u001b[0m\u001b[0;36m0\u001b[0m\u001b[0;34m]\u001b[0m\u001b[0;34m)\u001b[0m\u001b[0;34m\u001b[0m\u001b[0;34m\u001b[0m\u001b[0m\n\u001b[1;32m      6\u001b[0m     \u001b[0;32mreturn\u001b[0m \u001b[0marr\u001b[0m\u001b[0;34m\u001b[0m\u001b[0;34m\u001b[0m\u001b[0m\n",
      "\u001b[0;31mNameError\u001b[0m: name 'gem5_df' is not defined"
     ]
    }
   ],
   "source": [
    "plot_title = 'IPC'\n",
    "\n",
    "ylabel = 'ipc'\n",
    "plt.figure()\n",
    "plt.figure(figsize=(12,6))\n",
    "N = np.arange(len(benchmarks))\n",
    "barwidth = 0.2\n",
    "displacement1 = N + barwidth\n",
    "displacement2 = displacement1 + barwidth\n",
    "\n",
    "UnCalib_ipc = CreateArray('UnCalib',benchmarks,'ipc')\n",
    "Calib_ipc = CreateArray('Calib',benchmarks,'ipc')\n",
    "Max_ipc = CreateArray('Max',benchmarks,'ipc')\n",
    "\n",
    "plt.bar(N, UnClaib_ipc, barwidth, label='UnCalibrated CPU', color='lightblue')\n",
    "plt.bar(displacement1, Calib_ipc, barwidth, label= 'Calibrated CPU', color='cornflowerblue')\n",
    "plt.bar(displacement2, Max_ipc, barwidth, label='Max CPU', color='red')\n",
    "\n",
    "plt.title(plot_title)\n",
    "plt.legend(bbox_to_anchor=(0.25, 1))\n",
    "plt.xticks(N+0.2, benchmarks, rotation=40, ha='right')\n",
    "plt.ylabel(ylabel)\n",
    "plt.tight_layout()\n",
    "# plt.savefig(plot + 'microbenchmark_IPC' + '.png', format='png', dpi=600)"
   ]
  },
  {
   "cell_type": "code",
   "execution_count": 62,
   "metadata": {},
   "outputs": [
    {
     "output_type": "error",
     "ename": "NameError",
     "evalue": "name 'gem5_df' is not defined",
     "traceback": [
      "\u001b[0;31m---------------------------------------------------------------------------\u001b[0m",
      "\u001b[0;31mNameError\u001b[0m                                 Traceback (most recent call last)",
      "\u001b[0;32m<ipython-input-62-d4f8593a54b3>\u001b[0m in \u001b[0;36m<module>\u001b[0;34m\u001b[0m\n\u001b[1;32m     10\u001b[0m \u001b[0mdisplacement2\u001b[0m \u001b[0;34m=\u001b[0m \u001b[0mdisplacement1\u001b[0m \u001b[0;34m+\u001b[0m \u001b[0mbarwidth\u001b[0m\u001b[0;34m\u001b[0m\u001b[0;34m\u001b[0m\u001b[0m\n\u001b[1;32m     11\u001b[0m \u001b[0;34m\u001b[0m\u001b[0m\n\u001b[0;32m---> 12\u001b[0;31m \u001b[0mUnClaib_ipc\u001b[0m \u001b[0;34m=\u001b[0m \u001b[0mCreateArray\u001b[0m\u001b[0;34m(\u001b[0m\u001b[0;34m'UnCalib'\u001b[0m\u001b[0;34m,\u001b[0m\u001b[0mbenchmarks\u001b[0m\u001b[0;34m,\u001b[0m\u001b[0;34m'ipc'\u001b[0m\u001b[0;34m)\u001b[0m\u001b[0;34m\u001b[0m\u001b[0;34m\u001b[0m\u001b[0m\n\u001b[0m\u001b[1;32m     13\u001b[0m \u001b[0mCalib_ipc\u001b[0m \u001b[0;34m=\u001b[0m \u001b[0mCreateArray\u001b[0m\u001b[0;34m(\u001b[0m\u001b[0;34m'Calib'\u001b[0m\u001b[0;34m,\u001b[0m\u001b[0mbenchmarks\u001b[0m\u001b[0;34m,\u001b[0m\u001b[0;34m'ipc'\u001b[0m\u001b[0;34m)\u001b[0m\u001b[0;34m\u001b[0m\u001b[0;34m\u001b[0m\u001b[0m\n\u001b[1;32m     14\u001b[0m \u001b[0mMax_ipc\u001b[0m \u001b[0;34m=\u001b[0m \u001b[0mCreateArray\u001b[0m\u001b[0;34m(\u001b[0m\u001b[0;34m'Max'\u001b[0m\u001b[0;34m,\u001b[0m\u001b[0mbenchmarks\u001b[0m\u001b[0;34m,\u001b[0m\u001b[0;34m'ipc'\u001b[0m\u001b[0;34m)\u001b[0m\u001b[0;34m\u001b[0m\u001b[0;34m\u001b[0m\u001b[0m\n",
      "\u001b[0;32m<ipython-input-60-f784e1933b70>\u001b[0m in \u001b[0;36mCreateArray\u001b[0;34m(config, benchmarks, stat)\u001b[0m\n\u001b[1;32m      2\u001b[0m     \u001b[0marr\u001b[0m \u001b[0;34m=\u001b[0m \u001b[0;34m[\u001b[0m\u001b[0;34m]\u001b[0m\u001b[0;34m\u001b[0m\u001b[0;34m\u001b[0m\u001b[0m\n\u001b[1;32m      3\u001b[0m     \u001b[0;32mfor\u001b[0m \u001b[0mbm\u001b[0m \u001b[0;32min\u001b[0m \u001b[0mbenchmarks\u001b[0m\u001b[0;34m:\u001b[0m\u001b[0;34m\u001b[0m\u001b[0;34m\u001b[0m\u001b[0m\n\u001b[0;32m----> 4\u001b[0;31m         \u001b[0ma\u001b[0m \u001b[0;34m=\u001b[0m \u001b[0mgem5_df\u001b[0m\u001b[0;34m[\u001b[0m\u001b[0;34m(\u001b[0m\u001b[0mgem5_df\u001b[0m\u001b[0;34m[\u001b[0m\u001b[0;34m'benchmark'\u001b[0m\u001b[0;34m]\u001b[0m\u001b[0;34m==\u001b[0m\u001b[0mbm\u001b[0m\u001b[0;34m)\u001b[0m \u001b[0;34m&\u001b[0m \u001b[0;34m(\u001b[0m\u001b[0mgem5_df\u001b[0m\u001b[0;34m[\u001b[0m\u001b[0;34m'config'\u001b[0m\u001b[0;34m]\u001b[0m\u001b[0;34m==\u001b[0m\u001b[0mconfig\u001b[0m\u001b[0;34m)\u001b[0m\u001b[0;34m]\u001b[0m\u001b[0;34m\u001b[0m\u001b[0;34m\u001b[0m\u001b[0m\n\u001b[0m\u001b[1;32m      5\u001b[0m         \u001b[0marr\u001b[0m\u001b[0;34m.\u001b[0m\u001b[0mappend\u001b[0m\u001b[0;34m(\u001b[0m\u001b[0ma\u001b[0m\u001b[0;34m[\u001b[0m\u001b[0mstat\u001b[0m\u001b[0;34m]\u001b[0m\u001b[0;34m.\u001b[0m\u001b[0miloc\u001b[0m\u001b[0;34m[\u001b[0m\u001b[0;36m0\u001b[0m\u001b[0;34m]\u001b[0m\u001b[0;34m)\u001b[0m\u001b[0;34m\u001b[0m\u001b[0;34m\u001b[0m\u001b[0m\n\u001b[1;32m      6\u001b[0m     \u001b[0;32mreturn\u001b[0m \u001b[0marr\u001b[0m\u001b[0;34m\u001b[0m\u001b[0;34m\u001b[0m\u001b[0m\n",
      "\u001b[0;31mNameError\u001b[0m: name 'gem5_df' is not defined"
     ]
    }
   ],
   "source": [
    "plot_title = 'IPC'\n",
    "\n",
    "benchmarks = exe_benchmarks\n",
    "ylabel = 'ipc'\n",
    "plt.figure()\n",
    "plt.figure(figsize=(8,6))\n",
    "N = np.arange(len(benchmarks))\n",
    "barwidth = 0.2\n",
    "displacement1 = N + barwidth\n",
    "displacement2 = displacement1 + barwidth\n",
    "\n",
    "UnClaib_ipc = CreateArray('UnCalib',benchmarks,'ipc')\n",
    "Calib_ipc = CreateArray('Calib',benchmarks,'ipc')\n",
    "Max_ipc = CreateArray('Max',benchmarks,'ipc')\n",
    "\n",
    "plt.bar(N, UnClaib_ipc, barwidth, label='UnCalibrated CPU', color='lightblue')\n",
    "plt.bar(displacement1, Calib_ipc, barwidth, label= 'Calibrated CPU', color='cornflowerblue')\n",
    "plt.bar(displacement2, Max_ipc, barwidth, label='Max CPU', color='red')\n",
    "\n",
    "plt.title(plot_title)\n",
    "plt.legend(bbox_to_anchor=(0.25, 1))\n",
    "plt.xticks(N+0.2, benchmarks, rotation=40, ha='right')\n",
    "plt.ylabel(ylabel)\n",
    "plt.tight_layout()\n",
    "# plt.savefig(plot + 'exe_IPC' + '.png', format='png', dpi=600)"
   ]
  },
  {
   "cell_type": "code",
   "execution_count": null,
   "metadata": {},
   "outputs": [],
   "source": []
  }
 ],
 "metadata": {
  "kernelspec": {
   "display_name": "Python 3",
   "language": "python",
   "name": "python3"
  },
  "language_info": {
   "codemirror_mode": {
    "name": "ipython",
    "version": 3
   },
   "file_extension": ".py",
   "mimetype": "text/x-python",
   "name": "python",
   "nbconvert_exporter": "python",
   "pygments_lexer": "ipython3",
   "version": "3.6.9-final"
  }
 },
 "nbformat": 4,
 "nbformat_minor": 2
}